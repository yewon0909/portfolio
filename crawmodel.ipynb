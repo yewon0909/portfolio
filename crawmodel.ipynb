{
 "cells": [
  {
   "cell_type": "code",
   "execution_count": 15,
   "id": "e6fc8b70",
   "metadata": {},
   "outputs": [
    {
     "name": "stderr",
     "output_type": "stream",
     "text": [
      "C:\\Users\\jyw10\\AppData\\Local\\Temp\\ipykernel_17348\\1665161205.py:15: DeprecationWarning: executable_path has been deprecated, please pass in a Service object\n",
      "  driver = webdriver.Chrome('./chromedriver.exe', options = options)\n"
     ]
    }
   ],
   "source": [
    "from selenium import webdriver\n",
    "from selenium.webdriver.common.by import By\n",
    "from selenium.webdriver.support.ui import WebDriverWait\n",
    "from selenium.webdriver.support import expected_conditions as EC\n",
    "from time import sleep\n",
    "import random\n",
    "import pandas as pd\n",
    "\n",
    "\n",
    "options = webdriver.ChromeOptions()\n",
    "\n",
  
    "user_agent = \"Mozilla/5.0 (Windows NT 10.0; Win64; x64) AppleWebKit/537.36 (KHTML, like Gecko) Chrome/101.0.4951.64 Safari/537.36\"\n",
    "options.add_argument('user-agent=' + user_agent)\n",
    "driver = webdriver.Chrome('./chromedriver.exe', options = options)"
   ]
  },
  {
   "cell_type": "code",
   "execution_count": 16,
   "id": "8ee2902c",
   "metadata": {},
   "outputs": [],
   "source": [
    "def craw_content():\n",
    "    result = []\n",
    "    for i in range(1, 101):\n",
    "        try:\n",
    "            paper = {}\n",
    "            paper['title'] = driver.find_element(By.XPATH, '//*[@id=\"resultsContainer\"]/section/search-result-item[{}]/article/state-modifier/a/h3/raw-html'.format(i)).get_attribute('innerText')\n",
    "            paper['text'] = driver.find_element(By.XPATH, '//*[@id=\"resultsContainer\"]/section/search-result-item[{}]/article/div/div/div/div[2]/raw-html'.format(i)).get_attribute('innerText')\n",
    "            paper['date'] = driver.find_element(By.XPATH, '//*[@id=\"resultsContainer\"]/section/search-result-item[{}]/article/div/div/div/div[2]/h4[2]'.format(i)).get_attribute('innerText')\n",
    "            driver.find_element(By.XPATH, '//*[@id=\"resultsContainer\"]/section/search-result-item[{}]/article/state-modifier'.format(i)).click()\n",
    "            sleep(4)\n",
    "            paper['f_text'] = driver.find_element(By.XPATH, '//*[@id=\"text\"]').get_attribute('innerText')\n",
    "            driver.back()\n",
    "            result.append(paper)\n",
    "        except:\n",
    "            print(i)\n",
    "    return result\n",
    "    "
   ]
  },
  {
   "cell_type": "code",
   "execution_count": 17,
   "id": "c5d79c0b",
   "metadata": {},
   "outputs": [],
   "source": [
    "try:\n",
    "    df = pd.read_csv('./data/recrawdata.csv')\n",
    "except:\n",
    "    df = pd.DataFrame(columns=['title','text','date'])"
   ]
  },
  {
   "cell_type": "code",
   "execution_count": 18,
   "id": "339d9032",
   "metadata": {},
   "outputs": [
    {
     "data": {
      "text/plain": [
       "['https://patents.google.com/?country=US&before=priority:20211201&after=priority:20211101&language=ENGLISH&type=PATENT&num=100']"
      ]
     },
     "execution_count": 18,
     "metadata": {},
     "output_type": "execute_result"
    }
   ],
   "source": [
    "startdates = pd.date_range(start='2021-11-01', end='2021-12-01', freq = 'MS')\n",
    "enddates = pd.date_range(start='2021-12-01', end='2021-12-01', freq = 'MS')\n",
    "\n",
    "urls = []\n",
    "\n",
    "for start, end in zip(startdates,enddates):\n",
    "    start = start.strftime('%Y%m%d')\n",
    "    end = end.strftime('%Y%m%d')\n",
    "    url = 'https://patents.google.com/?country=US&before=priority:{}&after=priority:{}&language=ENGLISH&type=PATENT&num=100'.format(end, start)\n",
    "    urls.append(url)\n",
    "urls"
   ]
  },
  {
   "cell_type": "code",
   "execution_count": 19,
   "id": "8f246756",
   "metadata": {
    "scrolled": true
   },
   "outputs": [
    {
     "name": "stdout",
     "output_type": "stream",
     "text": [
      "https://patents.google.com/?country=US&before=priority:20211201&after=priority:20211101&language=ENGLISH&type=PATENT&num=100\n",
          ]
    },
    {
     "name": "stderr",
     "output_type": "stream",
     "text": [
      "C:\\Users\\jyw10\\AppData\\Local\\Temp\\ipykernel_17348\\2753230926.py:8: FutureWarning: The frame.append method is deprecated and will be removed from pandas in a future version. Use pandas.concat instead.\n",
      "  df = df.append(pd.DataFrame(craw_content()), ignore_index = True)\n"
     ]
    }
   ],
   "source": [
    "for url in urls:\n",
    "       \n",
    "    print(url)\n",
    "    driver.get(url)\n",
    "    sleep(random.randint(5,6))\n",
    "    for i in range(9):\n",
    "        print(i)\n",
    "        df = df.append(pd.DataFrame(craw_content()), ignore_index = True)\n",
    "        try:\n",
    "            driver.find_element(By.XPATH, '//*[@id=\"pagingAndInfo\"]/search-paging/state-modifier[3]/a/paper-icon-button').click()\n",
    "            sleep(random.randint(5,6))\n",
    "        except:\n",
    "            break\n",
    "        df.to_csv('./data/recrawdata.csv', index = False)\n",
    "        df.to_excel('./data/recrawdata.xlsx', index = False)"
   ]
  },
  {
   "cell_type": "code",
   "execution_count": 15,
   "id": "0e510e39",
   "metadata": {},
   "outputs": [],
   "source": [
    "df.to_csv('./data/recrawdata.csv', index = False)\n",
    "df.to_excel('./data/recrawdata.xlsx', index = False)"
   ]
  },
  {
   "cell_type": "code",
   "execution_count": null,
   "id": "5bde3441",
   "metadata": {},
   "outputs": [],
   "source": []
  }
 ],
 "metadata": {
  "kernelspec": {
   "display_name": "Python 3 (ipykernel)",
   "language": "python",
   "name": "python3"
  },
  "language_info": {
   "codemirror_mode": {
    "name": "ipython",
    "version": 3
   },
   "file_extension": ".py",
   "mimetype": "text/x-python",
   "name": "python",
   "nbconvert_exporter": "python",
   "pygments_lexer": "ipython3",
   "version": "3.10.3"
  }
 },
 "nbformat": 4,
 "nbformat_minor": 5
}
